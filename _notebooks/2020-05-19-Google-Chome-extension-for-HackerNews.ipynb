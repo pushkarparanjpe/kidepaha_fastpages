{
 "cells": [
  {
   "cell_type": "markdown",
   "metadata": {},
   "source": [
    "# \"HackerMark - a Google Chrome extension for HackerNews\"\n",
    "> \"Largely by using unsupervised machine learning approaches, I have built an automatic news cataloguing system for HN. Each news item is auto-tagged. The Chrome extension annotates each news item on each HN page.\"\n",
    "\n",
    "- toc: true\n",
    "- branch: master\n",
    "- badges: true\n",
    "- comments: true\n",
    "- author: Pushkar Paranjpe\n",
    "- categories: [HN, google, chrome, extension, unsupervised, ML]"
   ]
  },
  {
   "cell_type": "markdown",
   "metadata": {},
   "source": [
    "### What is HN ?"
   ]
  },
  {
   "cell_type": "markdown",
   "metadata": {},
   "source": [
    "HackerNews, or more popularly referred to by its initials as simply HN, is this amazing NEWS resource hosted at https://news.ycombinator.com/. Users (\"hackers\") submit NEWS items on topics interesting to themselves and other users. Items can be voted up/down and commented upon by member users. Its like reddit but without the group-by-topic organisation that is encouraged by sub-reddits."
   ]
  },
  {
   "cell_type": "markdown",
   "metadata": {},
   "source": [
    "### Introducing HackerMark"
   ]
  },
  {
   "cell_type": "markdown",
   "metadata": {},
   "source": [
    "A Google Chrome Extension that annotates each HN item with a tag."
   ]
  },
  {
   "cell_type": "markdown",
   "metadata": {},
   "source": [
    "### Components of the build"
   ]
  },
  {
   "cell_type": "markdown",
   "metadata": {},
   "source": [
    "- HN data\n",
    "- Unsupervised machine learning model\n",
    "- Ontology of tags\n",
    "- Tagger function\n",
    "- Backend and its API\n",
    "- Deploying to AWS\n",
    "- Google Chrome extension"
   ]
  },
  {
   "cell_type": "markdown",
   "metadata": {},
   "source": [
    "This will be a multi-part series of posts in which I will explain in detail - how I built and shipped HackerMark. So, stay tuned!"
   ]
  },
  {
   "cell_type": "code",
   "execution_count": null,
   "metadata": {},
   "outputs": [],
   "source": []
  }
 ],
 "metadata": {
  "kernelspec": {
   "display_name": "Python 3",
   "language": "python",
   "name": "python3"
  },
  "language_info": {
   "codemirror_mode": {
    "name": "ipython",
    "version": 3
   },
   "file_extension": ".py",
   "mimetype": "text/x-python",
   "name": "python",
   "nbconvert_exporter": "python",
   "pygments_lexer": "ipython3",
   "version": "3.7.3"
  }
 },
 "nbformat": 4,
 "nbformat_minor": 2
}
